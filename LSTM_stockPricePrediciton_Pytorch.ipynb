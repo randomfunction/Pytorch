{
  "nbformat": 4,
  "nbformat_minor": 0,
  "metadata": {
    "colab": {
      "provenance": [],
      "gpuType": "T4",
      "authorship_tag": "ABX9TyPnqVgvt1lqRQR8NJF02QOC",
      "include_colab_link": true
    },
    "kernelspec": {
      "name": "python3",
      "display_name": "Python 3"
    },
    "language_info": {
      "name": "python"
    },
    "accelerator": "GPU"
  },
  "cells": [
    {
      "cell_type": "markdown",
      "metadata": {
        "id": "view-in-github",
        "colab_type": "text"
      },
      "source": [
        "<a href=\"https://colab.research.google.com/github/randomfunction/Pytorch/blob/main/LSTM_stockPricePrediciton_Pytorch.ipynb\" target=\"_parent\"><img src=\"https://colab.research.google.com/assets/colab-badge.svg\" alt=\"Open In Colab\"/></a>"
      ]
    },
    {
      "cell_type": "code",
      "execution_count": 38,
      "metadata": {
        "id": "A-HPTKCwqbdN"
      },
      "outputs": [],
      "source": [
        "import numpy as np\n",
        "import pandas as pd\n",
        "import torch\n",
        "import torch.nn as nn\n",
        "from sklearn.preprocessing import MinMaxScaler\n",
        "from sklearn.model_selection import train_test_split\n",
        "import matplotlib.pyplot as plt"
      ]
    },
    {
      "cell_type": "code",
      "source": [
        "#load data\n",
        "\n",
        "import yfinance as yf\n",
        "df= yf.download(tickers='AAPL', period='1y', interval='1d')"
      ],
      "metadata": {
        "colab": {
          "base_uri": "https://localhost:8080/"
        },
        "id": "VEaeWmmPrF17",
        "outputId": "72915b0e-76ed-4729-8d0a-e6ec408350e1"
      },
      "execution_count": 39,
      "outputs": [
        {
          "output_type": "stream",
          "name": "stderr",
          "text": [
            "\r[*********************100%***********************]  1 of 1 completed\n"
          ]
        }
      ]
    },
    {
      "cell_type": "code",
      "source": [
        "#close price only\n",
        "prices= df['Close'].values.reshape(-1,1)"
      ],
      "metadata": {
        "id": "XWU_PLAqrbUl"
      },
      "execution_count": 40,
      "outputs": []
    },
    {
      "cell_type": "code",
      "source": [
        "#normalize\n",
        "scaler= MinMaxScaler()\n",
        "prices= scaler.fit_transform(prices)\n",
        "\n",
        "# print(prices)"
      ],
      "metadata": {
        "id": "pXcK-U_Vs2NT"
      },
      "execution_count": 41,
      "outputs": []
    },
    {
      "cell_type": "code",
      "source": [
        "#data sequences\n",
        "def create_sequences(data, length):\n",
        "  sequence=[]\n",
        "  target=[]\n",
        "  for i in range(len(data)- length):\n",
        "    sequence.append(data[i:i+length])\n",
        "    target.append(data[i+length])\n",
        "  return np.array(sequence), np.array(target)"
      ],
      "metadata": {
        "id": "NE5MWGhItAyy"
      },
      "execution_count": 42,
      "outputs": []
    },
    {
      "cell_type": "code",
      "source": [
        "#prepare train,test data\n",
        "length= 50\n",
        "X, y= create_sequences(prices, length)\n",
        "X_train, X_test, y_train, y_test= train_test_split(X, y, test_size=0.2, shuffle=False)"
      ],
      "metadata": {
        "id": "XGHJuLVPs-QV"
      },
      "execution_count": 43,
      "outputs": []
    },
    {
      "cell_type": "code",
      "source": [
        "# Convert data to PyTorch tensors\n",
        "X_train = torch.tensor(X_train, dtype=torch.float32)\n",
        "y_train = torch.tensor(y_train, dtype=torch.float32)\n",
        "X_test = torch.tensor(X_test, dtype=torch.float32)\n",
        "y_test = torch.tensor(y_test, dtype=torch.float32)"
      ],
      "metadata": {
        "id": "T8TBLiOMtncU"
      },
      "execution_count": 44,
      "outputs": []
    },
    {
      "cell_type": "code",
      "source": [
        "#LSTM model\n",
        "\n",
        "class LSTM(nn.Module):\n",
        "  def __init__(self, inputsize, hiddensize, outputsize):\n",
        "    super(LSTM, self).__init__()\n",
        "    self.hiddensize= hiddensize\n",
        "\n",
        "    # First LSTM layer\n",
        "    self.lstm1 = nn.LSTM(inputsize, hiddensize, batch_first=True)\n",
        "    self.dropout1 = nn.Dropout(0.2)\n",
        "\n",
        "    # Second LSTM layer\n",
        "    self.lstm2 = nn.LSTM(hiddensize, hiddensize, batch_first=True)\n",
        "    self.dropout2 = nn.Dropout(0.2)\n",
        "\n",
        "    # third LSTM layer\n",
        "    self.lstm3 = nn.LSTM(hiddensize, hiddensize, batch_first=True)\n",
        "    self.dropout3 = nn.Dropout(0.2)\n",
        "\n",
        "    # Fully connected layer\n",
        "    self.fc = nn.Linear(hiddensize, outputsize)\n",
        "\n",
        "  def forward(self, x):\n",
        "        h1 = torch.zeros(1, x.size(0), self.hiddensize).to(x.device)\n",
        "        c1 = torch.zeros(1, x.size(0), self.hiddensize).to(x.device)\n",
        "        h2 = torch.zeros(1, x.size(0), self.hiddensize).to(x.device)\n",
        "        c2 = torch.zeros(1, x.size(0), self.hiddensize).to(x.device)\n",
        "        h3 = torch.zeros(1, x.size(0), self.hiddensize).to(x.device)\n",
        "        c3 = torch.zeros(1, x.size(0), self.hiddensize).to(x.device)\n",
        "\n",
        "        out, _ = self.lstm1(x, (h1, c1))\n",
        "        out = self.dropout1(out)\n",
        "        out, _ = self.lstm2(out, (h2, c2))\n",
        "        out = self.dropout2(out)\n",
        "        out, _ = self.lstm3(out, (h3, c3))\n",
        "        out = self.dropout3(out)\n",
        "\n",
        "        # Fully connected layer\n",
        "        out = self.fc(out[:, -1, :])\n",
        "        return out"
      ],
      "metadata": {
        "id": "eLXyr4hWtxrb"
      },
      "execution_count": 45,
      "outputs": []
    },
    {
      "cell_type": "code",
      "source": [
        "#intilaize model\n",
        "\n",
        "#model params\n",
        "inputsize=1\n",
        "hiddensize=128\n",
        "outputsize=1\n",
        "\n",
        "model= LSTM(inputsize, hiddensize, outputsize)\n",
        "\n",
        "#loss fn, optimiser\n",
        "criterion= nn.MSELoss()\n",
        "optimiser= torch.optim.Adam(model.parameters(), lr=0.01)"
      ],
      "metadata": {
        "id": "J9y8IaTpuRXs"
      },
      "execution_count": 46,
      "outputs": []
    },
    {
      "cell_type": "code",
      "source": [
        "#Train model\n",
        "epochs= 500\n",
        "train_losses= []\n",
        "\n",
        "for epoch in range(epochs):\n",
        "  model.train()\n",
        "  optimiser.zero_grad()\n",
        "  output= model(X_train)\n",
        "  loss= criterion(output, y_train)\n",
        "  loss.backward()\n",
        "  optimiser.step()\n",
        "  train_losses.append(loss.item())\n",
        "\n",
        "  #print details while training\n",
        "  if epoch%10==0:\n",
        "    print(f'Epoch: {epoch}, Loss: {loss.item()}')"
      ],
      "metadata": {
        "colab": {
          "base_uri": "https://localhost:8080/"
        },
        "id": "CfSlPExvulwl",
        "outputId": "67b765df-7cc9-4dc1-bfe7-f5c322fb54ee"
      },
      "execution_count": 47,
      "outputs": [
        {
          "output_type": "stream",
          "name": "stdout",
          "text": [
            "Epoch: 0, Loss: 0.30354636907577515\n",
            "Epoch: 10, Loss: 0.02994743548333645\n",
            "Epoch: 20, Loss: 0.01771056093275547\n",
            "Epoch: 30, Loss: 0.005990984849631786\n",
            "Epoch: 40, Loss: 0.004282230976969004\n",
            "Epoch: 50, Loss: 0.004168112762272358\n",
            "Epoch: 60, Loss: 0.003202918218448758\n",
            "Epoch: 70, Loss: 0.0031559327617287636\n",
            "Epoch: 80, Loss: 0.003339427290484309\n",
            "Epoch: 90, Loss: 0.002857448998838663\n",
            "Epoch: 100, Loss: 0.003325204597786069\n",
            "Epoch: 110, Loss: 0.002901857951655984\n",
            "Epoch: 120, Loss: 0.003132425481453538\n",
            "Epoch: 130, Loss: 0.0024126553907990456\n",
            "Epoch: 140, Loss: 0.0022927296813577414\n",
            "Epoch: 150, Loss: 0.002424532314762473\n",
            "Epoch: 160, Loss: 0.002315271645784378\n",
            "Epoch: 170, Loss: 0.002547711366787553\n",
            "Epoch: 180, Loss: 0.002727122977375984\n",
            "Epoch: 190, Loss: 0.002286661183461547\n",
            "Epoch: 200, Loss: 0.0026158038526773453\n",
            "Epoch: 210, Loss: 0.0027291500009596348\n",
            "Epoch: 220, Loss: 0.002065695123746991\n",
            "Epoch: 230, Loss: 0.002150489715859294\n",
            "Epoch: 240, Loss: 0.0025125795509666204\n",
            "Epoch: 250, Loss: 0.0022577254567295313\n",
            "Epoch: 260, Loss: 0.002135814866051078\n",
            "Epoch: 270, Loss: 0.002321448642760515\n",
            "Epoch: 280, Loss: 0.002266627736389637\n",
            "Epoch: 290, Loss: 0.0018473647069185972\n",
            "Epoch: 300, Loss: 0.002353447722271085\n",
            "Epoch: 310, Loss: 0.002219235757365823\n",
            "Epoch: 320, Loss: 0.0023549403995275497\n",
            "Epoch: 330, Loss: 0.002089536050334573\n",
            "Epoch: 340, Loss: 0.0015676169423386455\n",
            "Epoch: 350, Loss: 0.0018929641228169203\n",
            "Epoch: 360, Loss: 0.001774296979419887\n",
            "Epoch: 370, Loss: 0.0017398718046024442\n",
            "Epoch: 380, Loss: 0.0020422181114554405\n",
            "Epoch: 390, Loss: 0.0020813841838389635\n",
            "Epoch: 400, Loss: 0.0017720184987410903\n",
            "Epoch: 410, Loss: 0.001980526838451624\n",
            "Epoch: 420, Loss: 0.002198861911892891\n",
            "Epoch: 430, Loss: 0.002103442093357444\n",
            "Epoch: 440, Loss: 0.002054295502603054\n",
            "Epoch: 450, Loss: 0.0020528025925159454\n",
            "Epoch: 460, Loss: 0.0018683539237827063\n",
            "Epoch: 470, Loss: 0.0019515258027240634\n",
            "Epoch: 480, Loss: 0.0015846312744542956\n",
            "Epoch: 490, Loss: 0.0021175993606448174\n"
          ]
        }
      ]
    },
    {
      "cell_type": "code",
      "source": [
        "model.eval()\n",
        "with torch.no_grad():\n",
        "  test_output= model(X_test)\n",
        "  test_loss= criterion(test_output, y_test)\n",
        "  print(f'Test Loss: {test_loss.item()}')"
      ],
      "metadata": {
        "colab": {
          "base_uri": "https://localhost:8080/"
        },
        "id": "ZplLxNrhvCA8",
        "outputId": "fd84155c-08ba-4373-a2c4-bedf0912e4de"
      },
      "execution_count": 48,
      "outputs": [
        {
          "output_type": "stream",
          "name": "stdout",
          "text": [
            "Test Loss: 0.0028635954950004816\n"
          ]
        }
      ]
    },
    {
      "cell_type": "code",
      "source": [
        "# Convert predictions back to original scale\n",
        "test_predictions = test_output.numpy()\n",
        "y_test = y_test.numpy()\n",
        "\n",
        "test_predictions = scaler.inverse_transform(test_predictions)\n",
        "y_test = scaler.inverse_transform(y_test)\n",
        "\n",
        "# Plot predictions vs. actual prices\n",
        "plt.figure(figsize=(10, 6))\n",
        "plt.plot(y_test, label='Actual Prices', color='blue')\n",
        "plt.plot(test_predictions, label='Predicted Prices', color='red')\n",
        "plt.legend()\n",
        "plt.title('Stock Price Prediction')\n",
        "plt.xlabel('Time')\n",
        "plt.ylabel('Price')\n",
        "plt.show()"
      ],
      "metadata": {
        "colab": {
          "base_uri": "https://localhost:8080/",
          "height": 564
        },
        "id": "f-7x2yBTv0tc",
        "outputId": "f905cce7-596d-4b6a-fed7-ebee1e5fed88"
      },
      "execution_count": 49,
      "outputs": [
        {
          "output_type": "display_data",
          "data": {
            "text/plain": [
              "<Figure size 1000x600 with 1 Axes>"
            ],
            "image/png": "[encoded data removed]"
          },
          "metadata": {}
        }
      ]
    }
  ]
}